{
 "cells": [
  {
   "cell_type": "code",
   "execution_count": 2,
   "id": "a3d3d356-05f3-4150-8132-9b9036bdcf04",
   "metadata": {},
   "outputs": [
    {
     "name": "stdout",
     "output_type": "stream",
     "text": [
      "                Category      Tip\n",
      "5              Indo Cafe  $241.98\n",
      "0            Coffeeholic   $87.48\n",
      "2          ISAUW Indomie   $16.62\n",
      "3  ISAUW Jasuke & Drinks   $13.44\n",
      "1            ISAUW Games   $13.28\n"
     ]
    }
   ],
   "source": [
    "import pandas as pd\n",
    "\n",
    "# Load the datasets\n",
    "transactionTips2024 = pd.read_csv('transactionTips.csv')\n",
    "summarySales2024 = pd.read_csv('summarySales2024.csv')\n",
    "\n",
    "# Remove the '$' sign and convert the 'Tip' column to a numeric type\n",
    "transactionTips2024['Tip'] = transactionTips2024['Tip'].str.replace('$', '').astype(float)\n",
    "\n",
    "# Merge the datasets on 'Transaction ID'\n",
    "datasets_merged = pd.merge(transactionTips2024, summarySales2024, on='Transaction ID')\n",
    "\n",
    "# Group by 'Category' and aggregate (sum) the 'Tips' for each group\n",
    "datasets_groupby = datasets_merged.groupby('Category')['Tip'].sum().reset_index()\n",
    "\n",
    "# Round the 'Tip' values to 2 decimal places\n",
    "datasets_groupby['Tip'] = datasets_groupby['Tip'].round(2)\n",
    "\n",
    "# Sort by 'Tip' values\n",
    "datasets_groupby = datasets_groupby.sort_values(by='Tip', ascending=False)\n",
    "\n",
    "# Format the 'Tip' column to have the dollar sign\n",
    "datasets_groupby['Tip'] = '$' + datasets_groupby['Tip'].astype(str)\n",
    "\n",
    "# Print the grouped and sorted DataFrame\n",
    "print(datasets_groupby.head())\n",
    "\n",
    "# Save the grouped and sorted DataFrame to a CSV file\n",
    "datasets_groupby.to_csv('output_file.csv', index=False)\n"
   ]
  }
 ],
 "metadata": {
  "kernelspec": {
   "display_name": "Python 3 (ipykernel)",
   "language": "python",
   "name": "python3"
  },
  "language_info": {
   "codemirror_mode": {
    "name": "ipython",
    "version": 3
   },
   "file_extension": ".py",
   "mimetype": "text/x-python",
   "name": "python",
   "nbconvert_exporter": "python",
   "pygments_lexer": "ipython3",
   "version": "3.10.5"
  }
 },
 "nbformat": 4,
 "nbformat_minor": 5
}
